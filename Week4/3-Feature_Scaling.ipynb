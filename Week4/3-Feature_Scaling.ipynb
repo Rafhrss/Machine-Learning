{
 "cells": [
  {
   "cell_type": "code",
   "execution_count": 41,
   "id": "f3b90157",
   "metadata": {},
   "outputs": [],
   "source": [
    "import pandas as pd\n",
    "import numpy as np\n",
    "\n",
    "from sklearn.datasets import  fetch_california_housing\n",
    "from sklearn.linear_model import LinearRegression\n",
    "\n",
    "from sklearn.model_selection import train_test_split\n",
    "from sklearn.preprocessing import OneHotEncoder, StandardScaler, MinMaxScaler, PolynomialFeatures\n",
    "from sklearn.metrics import mean_squared_error, r2_score"
   ]
  },
  {
   "cell_type": "code",
   "execution_count": 39,
   "id": "87445fc7",
   "metadata": {},
   "outputs": [],
   "source": [
    "califorina_housing = fetch_california_housing(as_frame=True)\n",
    "cali_df = califorina_housing.frame\n",
    "\n",
    "cali_df.columns = cali_df.columns.str.replace(' ','')"
   ]
  },
  {
   "cell_type": "code",
   "execution_count": 23,
   "id": "ae3688ae",
   "metadata": {},
   "outputs": [
    {
     "data": {
      "text/html": [
       "<div>\n",
       "<style scoped>\n",
       "    .dataframe tbody tr th:only-of-type {\n",
       "        vertical-align: middle;\n",
       "    }\n",
       "\n",
       "    .dataframe tbody tr th {\n",
       "        vertical-align: top;\n",
       "    }\n",
       "\n",
       "    .dataframe thead th {\n",
       "        text-align: right;\n",
       "    }\n",
       "</style>\n",
       "<table border=\"1\" class=\"dataframe\">\n",
       "  <thead>\n",
       "    <tr style=\"text-align: right;\">\n",
       "      <th></th>\n",
       "      <th>MedInc</th>\n",
       "      <th>HouseAge</th>\n",
       "      <th>AveRooms</th>\n",
       "      <th>AveBedrms</th>\n",
       "      <th>Population</th>\n",
       "      <th>AveOccup</th>\n",
       "      <th>Latitude</th>\n",
       "      <th>Longitude</th>\n",
       "      <th>MedHouseVal</th>\n",
       "    </tr>\n",
       "  </thead>\n",
       "  <tbody>\n",
       "    <tr>\n",
       "      <th>20316</th>\n",
       "      <td>4.1279</td>\n",
       "      <td>17.0</td>\n",
       "      <td>5.001253</td>\n",
       "      <td>1.004386</td>\n",
       "      <td>6437.0</td>\n",
       "      <td>4.033208</td>\n",
       "      <td>34.17</td>\n",
       "      <td>-119.16</td>\n",
       "      <td>2.239</td>\n",
       "    </tr>\n",
       "    <tr>\n",
       "      <th>2825</th>\n",
       "      <td>5.6235</td>\n",
       "      <td>12.0</td>\n",
       "      <td>6.259528</td>\n",
       "      <td>0.947368</td>\n",
       "      <td>1754.0</td>\n",
       "      <td>3.183303</td>\n",
       "      <td>35.41</td>\n",
       "      <td>-119.09</td>\n",
       "      <td>1.306</td>\n",
       "    </tr>\n",
       "    <tr>\n",
       "      <th>11856</th>\n",
       "      <td>3.0625</td>\n",
       "      <td>19.0</td>\n",
       "      <td>5.607143</td>\n",
       "      <td>1.078571</td>\n",
       "      <td>366.0</td>\n",
       "      <td>2.614286</td>\n",
       "      <td>39.80</td>\n",
       "      <td>-120.15</td>\n",
       "      <td>0.825</td>\n",
       "    </tr>\n",
       "  </tbody>\n",
       "</table>\n",
       "</div>"
      ],
      "text/plain": [
       "       MedInc  HouseAge  AveRooms  AveBedrms  Population  AveOccup  Latitude  \\\n",
       "20316  4.1279      17.0  5.001253   1.004386      6437.0  4.033208     34.17   \n",
       "2825   5.6235      12.0  6.259528   0.947368      1754.0  3.183303     35.41   \n",
       "11856  3.0625      19.0  5.607143   1.078571       366.0  2.614286     39.80   \n",
       "\n",
       "       Longitude  MedHouseVal  \n",
       "20316    -119.16        2.239  \n",
       "2825     -119.09        1.306  \n",
       "11856    -120.15        0.825  "
      ]
     },
     "execution_count": 23,
     "metadata": {},
     "output_type": "execute_result"
    }
   ],
   "source": [
    "cali_df.sample(3)"
   ]
  },
  {
   "cell_type": "code",
   "execution_count": 40,
   "id": "49cbdff9",
   "metadata": {},
   "outputs": [
    {
     "data": {
      "text/plain": [
       "np.float64(15.0001)"
      ]
     },
     "execution_count": 40,
     "metadata": {},
     "output_type": "execute_result"
    }
   ],
   "source": [
    "cali_df['MedInc'].max()"
   ]
  },
  {
   "cell_type": "markdown",
   "id": "09b73642",
   "metadata": {},
   "source": [
    "# Feature Engineering\n",
    "feature engineering = menambah feature baru dari yg udah ada"
   ]
  },
  {
   "cell_type": "code",
   "execution_count": 5,
   "id": "b64105d0",
   "metadata": {},
   "outputs": [],
   "source": [
    "x = cali_df.drop('MedHouseVal', axis=1)\n",
    "y = cali_df['MedHouseVal']"
   ]
  },
  {
   "cell_type": "code",
   "execution_count": 6,
   "id": "381d1aa7",
   "metadata": {},
   "outputs": [],
   "source": [
    "X_Train, X_Test, Y_Train, Y_Test = train_test_split(x, y, test_size=0.2, random_state=42)"
   ]
  },
  {
   "cell_type": "markdown",
   "id": "5f8b10bc",
   "metadata": {},
   "source": [
    "one hot endcoding = kita akan membagi katogori, klo kita ada 4 catogory, kita pisah kan semua nya jadi katogori baru, kolomnya dalam binary classifkasi, yes or no.<br>\n",
    "apakah katogori 1 ya atau tidak<br>\n",
    "apakah katogori 2 ya atau tidak<br>"
   ]
  },
  {
   "cell_type": "markdown",
   "id": "fa350a9d",
   "metadata": {},
   "source": [
    "## Fitur Categorical Buatan dengan Binning"
   ]
  },
  {
   "cell_type": "code",
   "execution_count": null,
   "id": "e9b0ff4b",
   "metadata": {},
   "outputs": [],
   "source": [
    "# Kita akan membagi Median Income menjadi 4 kategori (bins)\n",
    "bins = [0, 2.5, 5.0, 7.5, np.inf]\n",
    "labels = ['low_income', 'medium_income', 'high_income', 'very_high_income']\n",
    "\n",
    "X_Train['income_categorical'] = pd.cut(X_Train['MedInc'], bins=bins, labels=labels, right=False)\n",
    "X_Test['income_categorical'] = pd.cut(X_Train['MedInc'], bins=bins, labels=labels, right=False)\n",
    "\n",
    "# ini fungsi right=  0- 2.5   2.5-5.0   5.0-7.5   7.5-infinit"
   ]
  },
  {
   "cell_type": "code",
   "execution_count": 24,
   "id": "8ceb31a4",
   "metadata": {},
   "outputs": [
    {
     "data": {
      "text/html": [
       "<div>\n",
       "<style scoped>\n",
       "    .dataframe tbody tr th:only-of-type {\n",
       "        vertical-align: middle;\n",
       "    }\n",
       "\n",
       "    .dataframe tbody tr th {\n",
       "        vertical-align: top;\n",
       "    }\n",
       "\n",
       "    .dataframe thead th {\n",
       "        text-align: right;\n",
       "    }\n",
       "</style>\n",
       "<table border=\"1\" class=\"dataframe\">\n",
       "  <thead>\n",
       "    <tr style=\"text-align: right;\">\n",
       "      <th></th>\n",
       "      <th>MedInc</th>\n",
       "      <th>income_categorical</th>\n",
       "    </tr>\n",
       "  </thead>\n",
       "  <tbody>\n",
       "    <tr>\n",
       "      <th>5626</th>\n",
       "      <td>3.2115</td>\n",
       "      <td>medium_income</td>\n",
       "    </tr>\n",
       "    <tr>\n",
       "      <th>15917</th>\n",
       "      <td>2.3087</td>\n",
       "      <td>low_income</td>\n",
       "    </tr>\n",
       "    <tr>\n",
       "      <th>15559</th>\n",
       "      <td>3.0054</td>\n",
       "      <td>medium_income</td>\n",
       "    </tr>\n",
       "  </tbody>\n",
       "</table>\n",
       "</div>"
      ],
      "text/plain": [
       "       MedInc income_categorical\n",
       "5626   3.2115      medium_income\n",
       "15917  2.3087         low_income\n",
       "15559  3.0054      medium_income"
      ]
     },
     "execution_count": 24,
     "metadata": {},
     "output_type": "execute_result"
    }
   ],
   "source": [
    "X_Train[['MedInc', 'income_categorical']].sample(3)"
   ]
  },
  {
   "cell_type": "markdown",
   "id": "846b7b1e",
   "metadata": {},
   "source": [
    "# one hot encoding"
   ]
  },
  {
   "cell_type": "code",
   "execution_count": null,
   "id": "7a693e8c",
   "metadata": {},
   "outputs": [],
   "source": [
    "# kategori tadi kita one hot encoding\n",
    "encoder = OneHotEncoder(sparse_output=False, handle_unknown='ignore')"
   ]
  },
  {
   "cell_type": "code",
   "execution_count": 10,
   "id": "58e675ed",
   "metadata": {},
   "outputs": [],
   "source": [
    "# fit transofom untuk modelnya belajar training data. transform untuk mengubah datanya berdaarkan apa yg dipelari\n",
    "# biar model belajar di xtrain bukan di xtest \n",
    "\n",
    "# di training data belajar nya lebih gede daripada,  transform atau test data\n",
    "\n",
    "X_Train_cate = encoder.fit_transform(X_Train[['income_categorical']])\n",
    "X_Test_cate = encoder.transform(X_Test[['income_categorical']])"
   ]
  },
  {
   "cell_type": "code",
   "execution_count": 11,
   "metadata": {},
   "outputs": [
    {
     "data": {
      "text/plain": [
       "array([[0., 0., 1., 0.],\n",
       "       [0., 0., 1., 0.],\n",
       "       [0., 0., 1., 0.],\n",
       "       ...,\n",
       "       [0., 0., 1., 0.],\n",
       "       [1., 0., 0., 0.],\n",
       "       [0., 0., 1., 0.]], shape=(16512, 4))"
      ]
     },
     "execution_count": 11,
     "metadata": {},
     "output_type": "execute_result"
    }
   ],
   "source": [
    "X_Train_cate"
   ]
  },
  {
   "cell_type": "code",
   "execution_count": 26,
   "id": "d14968a8",
   "metadata": {},
   "outputs": [],
   "source": [
    "# Buat DataFrame dari hasil encoding\n",
    "feature_name = encoder.get_feature_names_out(['income_categorical'])\n",
    "X_train_cat_df = pd.DataFrame(X_Train_cate, columns=feature_name, index=X_Train.index)\n",
    "X_test_cat_df = pd.DataFrame(X_Test_cate, columns=feature_name, index=X_Test.index)"
   ]
  },
  {
   "cell_type": "code",
   "execution_count": 38,
   "metadata": {},
   "outputs": [
    {
     "data": {
      "text/html": [
       "<div>\n",
       "<style scoped>\n",
       "    .dataframe tbody tr th:only-of-type {\n",
       "        vertical-align: middle;\n",
       "    }\n",
       "\n",
       "    .dataframe tbody tr th {\n",
       "        vertical-align: top;\n",
       "    }\n",
       "\n",
       "    .dataframe thead th {\n",
       "        text-align: right;\n",
       "    }\n",
       "</style>\n",
       "<table border=\"1\" class=\"dataframe\">\n",
       "  <thead>\n",
       "    <tr style=\"text-align: right;\">\n",
       "      <th></th>\n",
       "      <th>income_categorical_high_income</th>\n",
       "      <th>income_categorical_low_income</th>\n",
       "      <th>income_categorical_medium_income</th>\n",
       "      <th>income_categorical_very_high_income</th>\n",
       "    </tr>\n",
       "  </thead>\n",
       "  <tbody>\n",
       "    <tr>\n",
       "      <th>7901</th>\n",
       "      <td>0.0</td>\n",
       "      <td>0.0</td>\n",
       "      <td>0.0</td>\n",
       "      <td>0.0</td>\n",
       "    </tr>\n",
       "    <tr>\n",
       "      <th>14340</th>\n",
       "      <td>0.0</td>\n",
       "      <td>0.0</td>\n",
       "      <td>0.0</td>\n",
       "      <td>0.0</td>\n",
       "    </tr>\n",
       "  </tbody>\n",
       "</table>\n",
       "</div>"
      ],
      "text/plain": [
       "       income_categorical_high_income  income_categorical_low_income  \\\n",
       "7901                              0.0                            0.0   \n",
       "14340                             0.0                            0.0   \n",
       "\n",
       "       income_categorical_medium_income  income_categorical_very_high_income  \n",
       "7901                                0.0                                  0.0  \n",
       "14340                               0.0                                  0.0  "
      ]
     },
     "execution_count": 38,
     "metadata": {},
     "output_type": "execute_result"
    }
   ],
   "source": [
    "X_test_cat_df.sample(2)"
   ]
  },
  {
   "cell_type": "markdown",
   "id": "043b9c56",
   "metadata": {},
   "source": [
    "## Polynomial Feature HouseAge and Population"
   ]
  },
  {
   "cell_type": "code",
   "execution_count": null,
   "id": "1d382cb1",
   "metadata": {},
   "outputs": [],
   "source": [
    "# Polynomial Features untuk fitur numerik\n",
    "# Pilih fitur numerik yang relevan untuk dikombinasikan (misal: HouseAge dan Population)\n",
    "poly = PolynomialFeatures(degree=2, include_bias=False)\n",
    "# fungsi degree untuk mancari non linaerisis"
   ]
  },
  {
   "cell_type": "code",
   "execution_count": 15,
   "metadata": {},
   "outputs": [],
   "source": [
    "X_Train_poly = poly.fit_transform(X_Train[['HouseAge', 'Population']])\n",
    "X_Test_poly = poly.transform(X_Test[['HouseAge', 'Population']])"
   ]
  },
  {
   "cell_type": "code",
   "execution_count": 16,
   "metadata": {},
   "outputs": [],
   "source": [
    "poly_feature_names =poly.get_feature_names_out(['HouseAge', 'Population'])\n",
    "X_Train_poly_df = pd.DataFrame(X_Train_poly, columns=poly_feature_names, index=X_Train.index)\n",
    "X_Test_poly_df = pd.DataFrame(X_Test_poly, columns=poly_feature_names, index=X_Test.index)"
   ]
  },
  {
   "cell_type": "code",
   "execution_count": 37,
   "id": "de2866ab",
   "metadata": {},
   "outputs": [
    {
     "data": {
      "text/html": [
       "<div>\n",
       "<style scoped>\n",
       "    .dataframe tbody tr th:only-of-type {\n",
       "        vertical-align: middle;\n",
       "    }\n",
       "\n",
       "    .dataframe tbody tr th {\n",
       "        vertical-align: top;\n",
       "    }\n",
       "\n",
       "    .dataframe thead th {\n",
       "        text-align: right;\n",
       "    }\n",
       "</style>\n",
       "<table border=\"1\" class=\"dataframe\">\n",
       "  <thead>\n",
       "    <tr style=\"text-align: right;\">\n",
       "      <th></th>\n",
       "      <th>HouseAge</th>\n",
       "      <th>Population</th>\n",
       "      <th>HouseAge^2</th>\n",
       "      <th>HouseAge Population</th>\n",
       "      <th>Population^2</th>\n",
       "    </tr>\n",
       "  </thead>\n",
       "  <tbody>\n",
       "    <tr>\n",
       "      <th>18724</th>\n",
       "      <td>5.0</td>\n",
       "      <td>2965.0</td>\n",
       "      <td>25.0</td>\n",
       "      <td>14825.0</td>\n",
       "      <td>8791225.0</td>\n",
       "    </tr>\n",
       "    <tr>\n",
       "      <th>4384</th>\n",
       "      <td>44.0</td>\n",
       "      <td>1783.0</td>\n",
       "      <td>1936.0</td>\n",
       "      <td>78452.0</td>\n",
       "      <td>3179089.0</td>\n",
       "    </tr>\n",
       "    <tr>\n",
       "      <th>1494</th>\n",
       "      <td>19.0</td>\n",
       "      <td>1317.0</td>\n",
       "      <td>361.0</td>\n",
       "      <td>25023.0</td>\n",
       "      <td>1734489.0</td>\n",
       "    </tr>\n",
       "  </tbody>\n",
       "</table>\n",
       "</div>"
      ],
      "text/plain": [
       "       HouseAge  Population  HouseAge^2  HouseAge Population  Population^2\n",
       "18724       5.0      2965.0        25.0              14825.0     8791225.0\n",
       "4384       44.0      1783.0      1936.0              78452.0     3179089.0\n",
       "1494       19.0      1317.0       361.0              25023.0     1734489.0"
      ]
     },
     "execution_count": 37,
     "metadata": {},
     "output_type": "execute_result"
    }
   ],
   "source": [
    "X_Train_poly_df.sample(3)"
   ]
  },
  {
   "cell_type": "code",
   "execution_count": null,
   "metadata": {},
   "outputs": [],
   "source": [
    "# Gabungkan semua fitur yang sudah di-engineer\n",
    "# Hapus fitur yang sudah diolah dan fitur buatan\n",
    "x_train_cleaned = X_Train.drop(columns=['income_categorical', 'HouseAge', 'Population'])\n",
    "x_test_cleaned = X_Test.drop(columns=['income_categorical', 'HouseAge', 'Population'])"
   ]
  },
  {
   "cell_type": "code",
   "execution_count": 28,
   "id": "3d81bd74",
   "metadata": {},
   "outputs": [],
   "source": [
    "x_train_engineered = pd.concat([x_train_cleaned, X_train_cat_df, X_Train_poly_df], axis=1)\n",
    "x_test_engineered = pd.concat([x_test_cleaned, X_test_cat_df, X_Test_poly_df], axis=1)"
   ]
  },
  {
   "cell_type": "code",
   "execution_count": 36,
   "id": "a0bc8153",
   "metadata": {},
   "outputs": [
    {
     "data": {
      "text/html": [
       "<div>\n",
       "<style scoped>\n",
       "    .dataframe tbody tr th:only-of-type {\n",
       "        vertical-align: middle;\n",
       "    }\n",
       "\n",
       "    .dataframe tbody tr th {\n",
       "        vertical-align: top;\n",
       "    }\n",
       "\n",
       "    .dataframe thead th {\n",
       "        text-align: right;\n",
       "    }\n",
       "</style>\n",
       "<table border=\"1\" class=\"dataframe\">\n",
       "  <thead>\n",
       "    <tr style=\"text-align: right;\">\n",
       "      <th></th>\n",
       "      <th>MedInc</th>\n",
       "      <th>AveRooms</th>\n",
       "      <th>AveBedrms</th>\n",
       "      <th>AveOccup</th>\n",
       "      <th>Latitude</th>\n",
       "      <th>Longitude</th>\n",
       "      <th>income_categorical_high_income</th>\n",
       "      <th>income_categorical_low_income</th>\n",
       "      <th>income_categorical_medium_income</th>\n",
       "      <th>income_categorical_very_high_income</th>\n",
       "      <th>HouseAge</th>\n",
       "      <th>Population</th>\n",
       "      <th>HouseAge^2</th>\n",
       "      <th>HouseAge Population</th>\n",
       "      <th>Population^2</th>\n",
       "    </tr>\n",
       "  </thead>\n",
       "  <tbody>\n",
       "    <tr>\n",
       "      <th>5659</th>\n",
       "      <td>4.1940</td>\n",
       "      <td>5.092857</td>\n",
       "      <td>1.076786</td>\n",
       "      <td>2.017857</td>\n",
       "      <td>33.73</td>\n",
       "      <td>-118.30</td>\n",
       "      <td>0.0</td>\n",
       "      <td>0.0</td>\n",
       "      <td>1.0</td>\n",
       "      <td>0.0</td>\n",
       "      <td>47.0</td>\n",
       "      <td>1130.0</td>\n",
       "      <td>2209.0</td>\n",
       "      <td>53110.0</td>\n",
       "      <td>1276900.0</td>\n",
       "    </tr>\n",
       "    <tr>\n",
       "      <th>10907</th>\n",
       "      <td>2.5651</td>\n",
       "      <td>3.794745</td>\n",
       "      <td>1.037767</td>\n",
       "      <td>4.821018</td>\n",
       "      <td>33.75</td>\n",
       "      <td>-117.85</td>\n",
       "      <td>0.0</td>\n",
       "      <td>0.0</td>\n",
       "      <td>1.0</td>\n",
       "      <td>0.0</td>\n",
       "      <td>27.0</td>\n",
       "      <td>2936.0</td>\n",
       "      <td>729.0</td>\n",
       "      <td>79272.0</td>\n",
       "      <td>8620096.0</td>\n",
       "    </tr>\n",
       "    <tr>\n",
       "      <th>8994</th>\n",
       "      <td>4.1375</td>\n",
       "      <td>5.070611</td>\n",
       "      <td>1.045802</td>\n",
       "      <td>2.185115</td>\n",
       "      <td>33.99</td>\n",
       "      <td>-118.36</td>\n",
       "      <td>0.0</td>\n",
       "      <td>0.0</td>\n",
       "      <td>1.0</td>\n",
       "      <td>0.0</td>\n",
       "      <td>43.0</td>\n",
       "      <td>1145.0</td>\n",
       "      <td>1849.0</td>\n",
       "      <td>49235.0</td>\n",
       "      <td>1311025.0</td>\n",
       "    </tr>\n",
       "  </tbody>\n",
       "</table>\n",
       "</div>"
      ],
      "text/plain": [
       "       MedInc  AveRooms  AveBedrms  AveOccup  Latitude  Longitude  \\\n",
       "5659   4.1940  5.092857   1.076786  2.017857     33.73    -118.30   \n",
       "10907  2.5651  3.794745   1.037767  4.821018     33.75    -117.85   \n",
       "8994   4.1375  5.070611   1.045802  2.185115     33.99    -118.36   \n",
       "\n",
       "       income_categorical_high_income  income_categorical_low_income  \\\n",
       "5659                              0.0                            0.0   \n",
       "10907                             0.0                            0.0   \n",
       "8994                              0.0                            0.0   \n",
       "\n",
       "       income_categorical_medium_income  income_categorical_very_high_income  \\\n",
       "5659                                1.0                                  0.0   \n",
       "10907                               1.0                                  0.0   \n",
       "8994                                1.0                                  0.0   \n",
       "\n",
       "       HouseAge  Population  HouseAge^2  HouseAge Population  Population^2  \n",
       "5659       47.0      1130.0      2209.0              53110.0     1276900.0  \n",
       "10907      27.0      2936.0       729.0              79272.0     8620096.0  \n",
       "8994       43.0      1145.0      1849.0              49235.0     1311025.0  "
      ]
     },
     "execution_count": 36,
     "metadata": {},
     "output_type": "execute_result"
    }
   ],
   "source": [
    "x_train_engineered.sample(3)"
   ]
  },
  {
   "cell_type": "markdown",
   "id": "baabe259",
   "metadata": {},
   "source": [
    "# Feature Scaling"
   ]
  },
  {
   "cell_type": "code",
   "execution_count": 19,
   "id": "c2b5aa81",
   "metadata": {},
   "outputs": [],
   "source": [
    "scaler = StandardScaler()\n",
    "X_train_scaled = scaler.fit_transform(x_train_engineered)\n",
    "X_test_scaled =  scaler.transform(x_test_engineered)"
   ]
  },
  {
   "cell_type": "code",
   "execution_count": null,
   "id": "7e941f55",
   "metadata": {},
   "outputs": [],
   "source": [
    "feature_names = scaler.get_feature_names_out()\n",
    "\n",
    "X_train_scaled_standard_df = pd.DataFrame(X_train_scaled, columns=feature_names, index=X_Train.index)\n",
    "X_test_scaled_standard_df = pd.DataFrame(X_test_scaled, columns=feature_names, index=X_Test.index)"
   ]
  },
  {
   "cell_type": "code",
   "execution_count": 34,
   "id": "260d6c70",
   "metadata": {},
   "outputs": [
    {
     "data": {
      "text/html": [
       "<div>\n",
       "<style scoped>\n",
       "    .dataframe tbody tr th:only-of-type {\n",
       "        vertical-align: middle;\n",
       "    }\n",
       "\n",
       "    .dataframe tbody tr th {\n",
       "        vertical-align: top;\n",
       "    }\n",
       "\n",
       "    .dataframe thead th {\n",
       "        text-align: right;\n",
       "    }\n",
       "</style>\n",
       "<table border=\"1\" class=\"dataframe\">\n",
       "  <thead>\n",
       "    <tr style=\"text-align: right;\">\n",
       "      <th></th>\n",
       "      <th>MedInc</th>\n",
       "      <th>AveRooms</th>\n",
       "      <th>AveBedrms</th>\n",
       "      <th>AveOccup</th>\n",
       "      <th>Latitude</th>\n",
       "      <th>Longitude</th>\n",
       "      <th>income_categorical_high_income</th>\n",
       "      <th>income_categorical_low_income</th>\n",
       "      <th>income_categorical_medium_income</th>\n",
       "      <th>income_categorical_very_high_income</th>\n",
       "      <th>HouseAge</th>\n",
       "      <th>Population</th>\n",
       "      <th>HouseAge^2</th>\n",
       "      <th>HouseAge Population</th>\n",
       "      <th>Population^2</th>\n",
       "    </tr>\n",
       "  </thead>\n",
       "  <tbody>\n",
       "    <tr>\n",
       "      <th>count</th>\n",
       "      <td>1.651200e+04</td>\n",
       "      <td>1.651200e+04</td>\n",
       "      <td>1.651200e+04</td>\n",
       "      <td>1.651200e+04</td>\n",
       "      <td>1.651200e+04</td>\n",
       "      <td>1.651200e+04</td>\n",
       "      <td>1.651200e+04</td>\n",
       "      <td>1.651200e+04</td>\n",
       "      <td>1.651200e+04</td>\n",
       "      <td>1.651200e+04</td>\n",
       "      <td>1.651200e+04</td>\n",
       "      <td>1.651200e+04</td>\n",
       "      <td>1.651200e+04</td>\n",
       "      <td>1.651200e+04</td>\n",
       "      <td>1.651200e+04</td>\n",
       "    </tr>\n",
       "    <tr>\n",
       "      <th>mean</th>\n",
       "      <td>-6.519333e-17</td>\n",
       "      <td>-1.981081e-16</td>\n",
       "      <td>-1.707291e-16</td>\n",
       "      <td>4.936566e-17</td>\n",
       "      <td>6.400995e-17</td>\n",
       "      <td>1.753335e-15</td>\n",
       "      <td>6.562365e-18</td>\n",
       "      <td>-3.614680e-17</td>\n",
       "      <td>9.337922e-17</td>\n",
       "      <td>-3.571648e-17</td>\n",
       "      <td>-9.251859e-18</td>\n",
       "      <td>-2.151595e-19</td>\n",
       "      <td>-1.947193e-17</td>\n",
       "      <td>-3.378004e-17</td>\n",
       "      <td>1.180688e-17</td>\n",
       "    </tr>\n",
       "    <tr>\n",
       "      <th>std</th>\n",
       "      <td>1.000030e+00</td>\n",
       "      <td>1.000030e+00</td>\n",
       "      <td>1.000030e+00</td>\n",
       "      <td>1.000030e+00</td>\n",
       "      <td>1.000030e+00</td>\n",
       "      <td>1.000030e+00</td>\n",
       "      <td>1.000030e+00</td>\n",
       "      <td>1.000030e+00</td>\n",
       "      <td>1.000030e+00</td>\n",
       "      <td>1.000030e+00</td>\n",
       "      <td>1.000030e+00</td>\n",
       "      <td>1.000030e+00</td>\n",
       "      <td>1.000030e+00</td>\n",
       "      <td>1.000030e+00</td>\n",
       "      <td>1.000030e+00</td>\n",
       "    </tr>\n",
       "    <tr>\n",
       "      <th>min</th>\n",
       "      <td>-1.775438e+00</td>\n",
       "      <td>-1.904386e+00</td>\n",
       "      <td>-1.762117e+00</td>\n",
       "      <td>-2.076846e-01</td>\n",
       "      <td>-1.447697e+00</td>\n",
       "      <td>-2.377207e+00</td>\n",
       "      <td>-4.608946e-01</td>\n",
       "      <td>-5.479597e-01</td>\n",
       "      <td>-1.100201e+00</td>\n",
       "      <td>-2.202592e-01</td>\n",
       "      <td>-2.190766e+00</td>\n",
       "      <td>-1.251913e+00</td>\n",
       "      <td>-1.299180e+00</td>\n",
       "      <td>-1.442046e+00</td>\n",
       "      <td>-2.349694e-01</td>\n",
       "    </tr>\n",
       "    <tr>\n",
       "      <th>25%</th>\n",
       "      <td>-6.900689e-01</td>\n",
       "      <td>-4.118373e-01</td>\n",
       "      <td>-2.081645e-01</td>\n",
       "      <td>-5.770769e-02</td>\n",
       "      <td>-8.018107e-01</td>\n",
       "      <td>-1.110749e+00</td>\n",
       "      <td>-4.608946e-01</td>\n",
       "      <td>-5.479597e-01</td>\n",
       "      <td>-1.100201e+00</td>\n",
       "      <td>-2.202592e-01</td>\n",
       "      <td>-8.417859e-01</td>\n",
       "      <td>-5.606339e-01</td>\n",
       "      <td>-8.693349e-01</td>\n",
       "      <td>-6.756449e-01</td>\n",
       "      <td>-1.910121e-01</td>\n",
       "    </tr>\n",
       "    <tr>\n",
       "      <th>50%</th>\n",
       "      <td>-1.758995e-01</td>\n",
       "      <td>-8.350905e-02</td>\n",
       "      <td>-1.094160e-01</td>\n",
       "      <td>-2.415892e-02</td>\n",
       "      <td>-6.473597e-01</td>\n",
       "      <td>5.346501e-01</td>\n",
       "      <td>-4.608946e-01</td>\n",
       "      <td>-5.479597e-01</td>\n",
       "      <td>9.089250e-01</td>\n",
       "      <td>-2.202592e-01</td>\n",
       "      <td>3.108328e-02</td>\n",
       "      <td>-2.281865e-01</td>\n",
       "      <td>-1.813166e-01</td>\n",
       "      <td>-1.883631e-01</td>\n",
       "      <td>-1.388033e-01</td>\n",
       "    </tr>\n",
       "    <tr>\n",
       "      <th>75%</th>\n",
       "      <td>4.686502e-01</td>\n",
       "      <td>2.621376e-01</td>\n",
       "      <td>8.455177e-03</td>\n",
       "      <td>1.580865e-02</td>\n",
       "      <td>9.720351e-01</td>\n",
       "      <td>7.839530e-01</td>\n",
       "      <td>-4.608946e-01</td>\n",
       "      <td>-5.479597e-01</td>\n",
       "      <td>9.089250e-01</td>\n",
       "      <td>-2.202592e-01</td>\n",
       "      <td>6.658972e-01</td>\n",
       "      <td>2.634487e-01</td>\n",
       "      <td>5.213405e-01</td>\n",
       "      <td>4.537180e-01</td>\n",
       "      <td>-2.460932e-02</td>\n",
       "    </tr>\n",
       "    <tr>\n",
       "      <th>max</th>\n",
       "      <td>5.839268e+00</td>\n",
       "      <td>5.716655e+01</td>\n",
       "      <td>5.664727e+01</td>\n",
       "      <td>1.071164e+02</td>\n",
       "      <td>2.951816e+00</td>\n",
       "      <td>2.628794e+00</td>\n",
       "      <td>2.169694e+00</td>\n",
       "      <td>1.824952e+00</td>\n",
       "      <td>9.089250e-01</td>\n",
       "      <td>4.540106e+00</td>\n",
       "      <td>1.856173e+00</td>\n",
       "      <td>3.012743e+01</td>\n",
       "      <td>2.297945e+00</td>\n",
       "      <td>1.824128e+01</td>\n",
       "      <td>8.966953e+01</td>\n",
       "    </tr>\n",
       "  </tbody>\n",
       "</table>\n",
       "</div>"
      ],
      "text/plain": [
       "             MedInc      AveRooms     AveBedrms      AveOccup      Latitude  \\\n",
       "count  1.651200e+04  1.651200e+04  1.651200e+04  1.651200e+04  1.651200e+04   \n",
       "mean  -6.519333e-17 -1.981081e-16 -1.707291e-16  4.936566e-17  6.400995e-17   \n",
       "std    1.000030e+00  1.000030e+00  1.000030e+00  1.000030e+00  1.000030e+00   \n",
       "min   -1.775438e+00 -1.904386e+00 -1.762117e+00 -2.076846e-01 -1.447697e+00   \n",
       "25%   -6.900689e-01 -4.118373e-01 -2.081645e-01 -5.770769e-02 -8.018107e-01   \n",
       "50%   -1.758995e-01 -8.350905e-02 -1.094160e-01 -2.415892e-02 -6.473597e-01   \n",
       "75%    4.686502e-01  2.621376e-01  8.455177e-03  1.580865e-02  9.720351e-01   \n",
       "max    5.839268e+00  5.716655e+01  5.664727e+01  1.071164e+02  2.951816e+00   \n",
       "\n",
       "          Longitude  income_categorical_high_income  \\\n",
       "count  1.651200e+04                    1.651200e+04   \n",
       "mean   1.753335e-15                    6.562365e-18   \n",
       "std    1.000030e+00                    1.000030e+00   \n",
       "min   -2.377207e+00                   -4.608946e-01   \n",
       "25%   -1.110749e+00                   -4.608946e-01   \n",
       "50%    5.346501e-01                   -4.608946e-01   \n",
       "75%    7.839530e-01                   -4.608946e-01   \n",
       "max    2.628794e+00                    2.169694e+00   \n",
       "\n",
       "       income_categorical_low_income  income_categorical_medium_income  \\\n",
       "count                   1.651200e+04                      1.651200e+04   \n",
       "mean                   -3.614680e-17                      9.337922e-17   \n",
       "std                     1.000030e+00                      1.000030e+00   \n",
       "min                    -5.479597e-01                     -1.100201e+00   \n",
       "25%                    -5.479597e-01                     -1.100201e+00   \n",
       "50%                    -5.479597e-01                      9.089250e-01   \n",
       "75%                    -5.479597e-01                      9.089250e-01   \n",
       "max                     1.824952e+00                      9.089250e-01   \n",
       "\n",
       "       income_categorical_very_high_income      HouseAge    Population  \\\n",
       "count                         1.651200e+04  1.651200e+04  1.651200e+04   \n",
       "mean                         -3.571648e-17 -9.251859e-18 -2.151595e-19   \n",
       "std                           1.000030e+00  1.000030e+00  1.000030e+00   \n",
       "min                          -2.202592e-01 -2.190766e+00 -1.251913e+00   \n",
       "25%                          -2.202592e-01 -8.417859e-01 -5.606339e-01   \n",
       "50%                          -2.202592e-01  3.108328e-02 -2.281865e-01   \n",
       "75%                          -2.202592e-01  6.658972e-01  2.634487e-01   \n",
       "max                           4.540106e+00  1.856173e+00  3.012743e+01   \n",
       "\n",
       "         HouseAge^2  HouseAge Population  Population^2  \n",
       "count  1.651200e+04         1.651200e+04  1.651200e+04  \n",
       "mean  -1.947193e-17        -3.378004e-17  1.180688e-17  \n",
       "std    1.000030e+00         1.000030e+00  1.000030e+00  \n",
       "min   -1.299180e+00        -1.442046e+00 -2.349694e-01  \n",
       "25%   -8.693349e-01        -6.756449e-01 -1.910121e-01  \n",
       "50%   -1.813166e-01        -1.883631e-01 -1.388033e-01  \n",
       "75%    5.213405e-01         4.537180e-01 -2.460932e-02  \n",
       "max    2.297945e+00         1.824128e+01  8.966953e+01  "
      ]
     },
     "execution_count": 34,
     "metadata": {},
     "output_type": "execute_result"
    }
   ],
   "source": [
    "X_train_scaled_standard_df.describe()"
   ]
  },
  {
   "cell_type": "code",
   "execution_count": 30,
   "metadata": {},
   "outputs": [
    {
     "name": "stdout",
     "output_type": "stream",
     "text": [
      "Metrik Model dengan Data Mentah:\n",
      "MSE: 0.56\n",
      "NMSE: 0.04\n",
      "R2 Score: 0.58\n"
     ]
    }
   ],
   "source": [
    "from sklearn.metrics import r2_score\n",
    "\n",
    "# Model 1: Menggunakan data MENTAH\n",
    "model_raw = LinearRegression()\n",
    "\n",
    "# Kita harus mengambil data numerik saja, karena model tidak bisa memproses data kategorikal\n",
    "X_train_raw = X_Train.select_dtypes(include=np.number)\n",
    "X_test_raw = X_Test.select_dtypes(include=np.number)\n",
    "model_raw.fit(X_train_raw, Y_Train)\n",
    "y_pred_raw = model_raw.predict(X_test_raw)\n",
    "print(\"Metrik Model dengan Data Mentah:\")\n",
    "print(f\"MSE: {mean_squared_error(Y_Test, y_pred_raw):.2f}\")\n",
    "print(f\"NMSE: {(mean_squared_error(Y_Test, y_pred_raw) / (y_pred_raw.max() - y_pred_raw.min())):.2f}\")\n",
    "print(f\"R2 Score: {r2_score(Y_Test, y_pred_raw):.2f}\")"
   ]
  },
  {
   "cell_type": "code",
   "execution_count": 31,
   "metadata": {},
   "outputs": [
    {
     "name": "stdout",
     "output_type": "stream",
     "text": [
      "Metrik Model dengan Data Feture Engineering:\n",
      "MSE: 0.60\n",
      "NMSE: 0.05\n",
      "R2 Score: 0.55\n"
     ]
    }
   ],
   "source": [
    "# Model 2: Menggunakan data setelah FEATURE ENGINEERING (tanpa scaling)\n",
    "\n",
    "model_eng = LinearRegression()\n",
    "model_eng.fit(x_train_engineered, Y_Train)\n",
    "y_pred_fe = model_eng.predict(x_test_engineered)\n",
    "print(\"Metrik Model dengan Data Feture Engineering:\")\n",
    "print(f\"MSE: {mean_squared_error(Y_Test, y_pred_fe):.2f}\")\n",
    "print(f\"NMSE: {(mean_squared_error(Y_Test, y_pred_fe) / (y_pred_fe.max() - y_pred_fe.min())):.2f}\")\n",
    "print(f\"R2 Score: {r2_score(Y_Test, y_pred_fe):.2f}\")"
   ]
  },
  {
   "cell_type": "code",
   "execution_count": 33,
   "id": "1750f66a",
   "metadata": {},
   "outputs": [
    {
     "name": "stdout",
     "output_type": "stream",
     "text": [
      "Metrik Model dengan Data setelah Feature Engineering & Scaling:\n",
      "MSE: 0.58\n",
      "NMSE: 0.05\n",
      "R2 Score: 0.56\n"
     ]
    }
   ],
   "source": [
    "# Model 3: Menggunakan data setelah FEATURE ENGINEERING + FEATURE SCALING (StandardScaler)\n",
    "\n",
    "model_scaled = LinearRegression()\n",
    "model_scaled.fit(X_train_scaled, Y_Train)\n",
    "y_pred_scaled = model_scaled.predict(X_test_scaled)\n",
    "print(\"Metrik Model dengan Data setelah Feature Engineering & Scaling:\")\n",
    "print(f\"MSE: {mean_squared_error(Y_Test, y_pred_scaled):.2f}\")\n",
    "print(f\"NMSE: {(mean_squared_error(Y_Test, y_pred_fe) / (y_pred_scaled.max() - y_pred_scaled.min())):.2f}\")\n",
    "print(f\"R2 Score: {r2_score(Y_Test, y_pred_scaled):.2f}\")"
   ]
  },
  {
   "cell_type": "code",
   "execution_count": null,
   "id": "5c5ab66a",
   "metadata": {},
   "outputs": [],
   "source": []
  }
 ],
 "metadata": {
  "kernelspec": {
   "display_name": "Python 3",
   "language": "python",
   "name": "python3"
  },
  "language_info": {
   "codemirror_mode": {
    "name": "ipython",
    "version": 3
   },
   "file_extension": ".py",
   "mimetype": "text/x-python",
   "name": "python",
   "nbconvert_exporter": "python",
   "pygments_lexer": "ipython3",
   "version": "3.13.3"
  }
 },
 "nbformat": 4,
 "nbformat_minor": 5
}
